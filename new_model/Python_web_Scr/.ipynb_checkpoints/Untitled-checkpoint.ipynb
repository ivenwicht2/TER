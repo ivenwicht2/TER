{
 "cells": [
  {
   "cell_type": "markdown",
   "metadata": {},
   "source": [
    "### Test Web_Scrapping"
   ]
  },
  {
   "cell_type": "markdown",
   "metadata": {},
   "source": [
    "#### Installation des packages necessaires"
   ]
  },
  {
   "cell_type": "code",
   "execution_count": 3,
   "metadata": {},
   "outputs": [],
   "source": [
    "from selenium import webdriver\n",
    "from selenium.webdriver.common.keys import Keys\n",
    "import os\n",
    "import json\n",
    "import urllib\n",
    "import sys\n",
    "import time\n",
    "\n",
    "# adding path to geckodriver to the OS environment variable\n",
    "os.environ[\"PATH\"] += os.pathsep + os.getcwd()"
   ]
  },
  {
   "cell_type": "markdown",
   "metadata": {},
   "source": [
    "#### Configuration des variables"
   ]
  },
  {
   "cell_type": "code",
   "execution_count": 4,
   "metadata": {},
   "outputs": [],
   "source": [
    "# Configuration\n",
    "download_path = \"database/\" # Chemin relatif dans lequel les images vont être enregistrées\n",
    "\n",
    "# Images\n",
    "words_to_search = ['hieroglyphe'] # Mot clé / Mots clés à chercher pour telecharger les images\n",
    "nb_to_download = [10] # Nombre d'images à enregistrer\n",
    "first_image_position = [0] # Numéro de l'image à partir de laquelle il faut télécharger"
   ]
  },
  {
   "cell_type": "code",
   "execution_count": 5,
   "metadata": {},
   "outputs": [],
   "source": [
    "def main():\n",
    "    if len(words_to_search) != len(nb_to_download) or len(nb_to_download) != len(first_image_position) :\n",
    "        raise ValueError('You may have forgotten to configure one of the lists (length is different)')\n",
    "    i= 0\n",
    "    # For each word in the list, we download the number of images requested\n",
    "    while i<len(words_to_search):\n",
    "        print(\"Words \"+str(i)+\" : \"+str(nb_to_download[i])+\"x\\\"\"+words_to_search[i]+\"\\\"\")\n",
    "        if nb_to_download[i] > 0:\n",
    "            search_and_save(words_to_search[i],nb_to_download[i], first_image_position[i])\n",
    "        i+=1"
   ]
  },
  {
   "cell_type": "markdown",
   "metadata": {},
   "source": [
    "#### Définition de la fonction qui cherche puis enregistre les images dans un fichier"
   ]
  },
  {
   "cell_type": "code",
   "execution_count": 6,
   "metadata": {},
   "outputs": [],
   "source": [
    "def search_and_save(text, number, first_position):\n",
    "    # Number_of_scrolls * 400 images will be opened in the browser\n",
    "    number_of_scrolls = int((number + first_position)/ 400 + 1) \n",
    "    print(\"Search : \"+text+\" ; number : \"+str(number)+\"; first_position : \"+str(first_position)+\" ; scrolls : \"+str(number_of_scrolls))\n",
    "\n",
    "    # Create directories to save images\n",
    "    if not os.path.exists(download_path + text.replace(\" \", \"_\")):\n",
    "        os.makedirs(download_path + text.replace(\" \", \"_\"))\n",
    "\n",
    "    # Connect to Google Image\n",
    "    #url = \"https://www.google.co.in/search?q=\"+text+\"&source=lnms&tbm=isch\"\n",
    "    url=\"https://www.google.fr/search?q=HI%C3%89ROGLYPHE&tbm=isch&hl=fr&hl=fr&tbs=ic%3Aspecific%2Cisc%3Aorange&ved=0CAUQ2J8EahcKEwiomIuP9rfnAhUAAAAAHQAAAAAQAg&biw=1440&bih=740\"\n",
    "    driver = webdriver.Chrome('database/chromedriver')\n",
    "    driver.get(url)\n",
    "    headers = {}\n",
    "    headers['User-Agent'] = \"Mozilla/5.0 (Windows NT 6.1) AppleWebKit/537.36 (KHTML, like Gecko) Chrome/41.0.2228.0 Safari/537.36\"\n",
    "    extensions = {\"jpg\", \"jpeg\", \"png\", \"gif\"}\n",
    "    \n",
    "    img_count = 0\n",
    "    downloaded_img_count = 0\n",
    "    img_skip = 0\n",
    "    \n",
    "    #Prepare Google Page\n",
    "    for _ in range(number_of_scrolls):\n",
    "        for __ in range(10):\n",
    "            # Multiple scrolls needed to show all 400 images\n",
    "            driver.execute_script(\"window.scrollBy(0, 1000000)\")\n",
    "            time.sleep(0.2)\n",
    "        # to load next 400 images\n",
    "        time.sleep(2.5)\n",
    "        try:\n",
    "            driver.find_element_by_xpath(\"//input[@value='Show more results']\").click()\n",
    "            time.sleep(2.5)\n",
    "        except Exception as e:\n",
    "            print(\"Less images found:\"+ str(e))\n",
    "            break\n",
    "\n",
    "    # Téléchargement des images\n",
    "    imges = driver.find_elements_by_xpath('//div[contains(@class,\"rg_meta\")]')\n",
    "    print(\"Total images:\"+ str(len(imges)) + \"\\n\")\n",
    "    for img in imges:\n",
    "        if img_skip < first_position:\n",
    "            # Skip first images if asked to\n",
    "            img_skip += 1\n",
    "        else :\n",
    "            # Get image\n",
    "            img_count += 1\n",
    "            img_url = json.loads(img.get_attribute('innerHTML'))[\"ou\"]\n",
    "            img_type = json.loads(img.get_attribute('innerHTML'))[\"ity\"]\n",
    "            print(\"Downloading image \"+ str(img_count) + \": \"+ img_url)\n",
    "            try:\n",
    "                if img_type not in extensions:\n",
    "                    img_type = \"jpg\"\n",
    "                # Download image and save it\n",
    "                req = urllib.request.Request(img_url, headers=headers)\n",
    "                raw_img = urllib.request.urlopen(req).read()\n",
    "                f = open(download_path+text.replace(\" \", \"_\")+\"/\"+str(img_skip+downloaded_img_count)+\".\"+img_type, \"wb\")\n",
    "                f.write(raw_img)\n",
    "                f.close\n",
    "                downloaded_img_count += 1\n",
    "            except Exception as e:\n",
    "                print(\"Download failed:\"+ str(e))\n",
    "            finally:\n",
    "                print(\"\")\n",
    "            if downloaded_img_count >= number:\n",
    "                break\n",
    "\n",
    "    print(\"Total skipped : \"+str(img_skip)+\"; Total downloaded : \"+ str(downloaded_img_count)+ \"/\"+ str(img_count))\n",
    "    driver.quit()\n",
    "\n",
    "#if __name__ == \"__main__\":\n",
    "#    main()"
   ]
  },
  {
   "cell_type": "markdown",
   "metadata": {},
   "source": [
    "#### Mise en route de la fonction pour reccupérer les images"
   ]
  },
  {
   "cell_type": "code",
   "execution_count": 7,
   "metadata": {},
   "outputs": [
    {
     "name": "stdout",
     "output_type": "stream",
     "text": [
      "Search : hieroglyphe ; number : 30; first_position : 0 ; scrolls : 1\n",
      "Less images found:Message: no such element: Unable to locate element: {\"method\":\"xpath\",\"selector\":\"//input[@value='Show more results']\"}\n",
      "  (Session info: chrome=79.0.3945.130)\n",
      "\n",
      "Total images:300\n",
      "\n",
      "Downloading image 1: https://static3.depositphotos.com/1006452/227/i/950/depositphotos_2271755-stock-photo-egypt-series-hieroglyph-horizontal.jpg\n",
      "\n",
      "Downloading image 2: https://image.spreadshirtmedia.net/image-server/v1/mp/products/T646A408MPA4201PT14X49Y46D10832434FS22756C13/views/1,width=378,height=378,appearanceId=408,backgroundColor=F2F2F2,modelId=1891,crop=list,version=1567660350,modelImageVersion=1554894942/hieroglyphes-t-shirt-contraste-homme.jpg\n",
      "\n",
      "Downloading image 3: https://i2.wp.com/www.ethik-life.com/wp-content/uploads/2018/01/egypt-hi%C3%A9roglyphe.jpg?resize=620%2C428&ssl=1\n",
      "\n",
      "Downloading image 4: https://www.lefrontal.com/images/2333/IJK/hieroglyphes.jpg\n",
      "\n",
      "Downloading image 5: https://previews.123rf.com/images/perseomedusa/perseomedusa1506/perseomedusa150600093/41960555-hi%C3%A9roglyphe-%C3%A9gyptien-sur-le-calcaire-1500-1200-bc.jpg\n",
      "\n",
      "Downloading image 6: http://www.leparisien.fr/resizer/WPCqa0kBSQFKs8izU2SfocbK7do=/932x582/arc-anglerfish-eu-central-1-prod-leparisien.s3.amazonaws.com/public/PJ6Z2WVRADKPRRVWKLHSTNRLPU.jpg\n",
      "\n",
      "Downloading image 7: https://previews.123rf.com/images/perseomedusa/perseomedusa1410/perseomedusa141000046/32490306-hi%C3%A9roglyphe-%C3%A9gyptien-sur-le-calcaire-1500-1200-bc.jpg\n",
      "\n",
      "Downloading image 8: http://classes.bnf.fr/dossiecr/jpeg/gc36-1e.jpg\n",
      "\n",
      "Downloading image 9: https://static.lpnt.fr/images/2017/06/28/9218981lpw-9219050-article-hieroglyphes-jpg_4386065_660x281.jpg\n",
      "\n",
      "Downloading image 10: https://dailygeekshow.com/wp-content/uploads/2019/12/shutterstock_530678500.jpg\n",
      "\n",
      "Downloading image 11: https://thumbs.dreamstime.com/z/hi%C3%A9roglyphe-%C3%A9gyptien-d%C3%A9coup%C3%A9-en-gr%C3%A8s-63605373.jpg\n",
      "\n",
      "Downloading image 12: https://media.istockphoto.com/photos/detail-of-egyptian-hieroglyphs-in-luxor-picture-id1132841817?k=6&m=1132841817&s=612x612&w=0&h=1eF_9LRBLti1-CDQpp7x8GIvWO2zpVEVka2wTFEQA9c=\n",
      "\n",
      "Downloading image 13: https://comps.canstockphoto.fr/hi%C3%A9roglyphe-image-sous-licence_csp20726666.jpg\n",
      "\n",
      "Downloading image 14: https://previews.123rf.com/images/kmiragaya/kmiragaya1509/kmiragaya150900161/45252130-hi%C3%A9roglyphe-%C3%A9gyptien-antique-repr%C3%A9sentant-un-pharaon-des-animaux-et-des-signes.jpg\n",
      "\n",
      "Downloading image 15: https://fscomps.fotosearch.com/compc/CSP/CSP394/vieux-egypte-hi%C3%A9roglyphes-banque-dimage__k3949172.jpg\n",
      "\n",
      "Downloading image 16: https://thumbs.dreamstime.com/z/hi%C3%A9roglyphe-73519198.jpg\n",
      "\n",
      "Downloading image 17: https://images.freeimages.com/images/large-previews/f0b/hieroglyph-writting-1623724.jpg\n",
      "\n",
      "Downloading image 18: https://comps.canstockphoto.fr/ancien-lettres-%C3%A9gyptien-egypte-cliparts-vectoris%C3%A9s_csp54329169.jpg\n",
      "\n",
      "Downloading image 19: https://i0.wp.com/www.impulsion3d.com/wp-content/uploads/2019/02/Hi%C3%A9roglyphe-%C3%A9gyptien-e1550695402491.jpg?fit=2000%2C1321&ssl=1\n",
      "\n",
      "Downloading image 20: https://www.sciencesetavenir.fr/assets/img/2017/06/26/cover-r4x3w1000-5950f8a656e74-photo-1-ouverture.png\n",
      "\n",
      "Downloading image 21: http://cdn3.momes.net/var/momes/storage/images/apprendre/dictionnaire-enfant/h/les-hieroglyphes/752316-3-fre-FR/Les-hieroglyphes.jpg\n",
      "\n",
      "Downloading image 22: https://media.gettyimages.com/photos/egyptian-hieroglyphics-on-a-beige-stone-picture-id157637350?s=612x612\n",
      "\n",
      "Downloading image 23: https://media.routard.com/image/88/3/pt1041.1213883.w430.jpg\n",
      "\n",
      "Downloading image 24: https://static.lexpress.fr/medias_1031/w_480,h_270,c_fill,g_north/v1404819501/undated-handout-picture-shows-coffin-made-of-limestone-discovered-by-japanese-mission-in-saqqara_528115.jpg\n",
      "\n",
      "Downloading image 25: https://c8.alamy.com/compfr/p9a1wx/hieroglyphe-egyptien-detail-sculpte-dans-le-granit-amon-ra-temple-de-karnak-louxor-egypte-afrique-du-sud-p9a1wx.jpg\n",
      "\n",
      "Downloading image 26: https://media.istockphoto.com/photos/ancient-hieroglyphic-script-picture-id614744994?k=6&m=614744994&s=612x612&w=0&h=-sXEDMzwPni0lRyIg-n5NL7fFp62L_DW1wH4Dnj0Qvc=\n",
      "\n",
      "Downloading image 27: https://c8.alamy.com/compfr/x3ny5b/pierre-l-art-de-l-egypte-ancienne-egypte-hieroglyphe-archeologie-egyptologie-pharaon-toutankhamon-plaque-x3ny5b.jpg\n",
      "\n",
      "Downloading image 28: https://i.pinimg.com/originals/f3/7e/10/f37e10b0e9d901d1feff0813ce7ef507.jpg\n",
      "\n",
      "Downloading image 29: https://st2.depositphotos.com/5288588/9777/v/600/depositphotos_97775104-stock-illustration-seamless-pattern-with-egypt-hieroglyph.jpg\n",
      "\n",
      "Downloading image 30: https://previews.123rf.com/images/kmiragaya/kmiragaya1512/kmiragaya151200088/50094368-hi%C3%A9roglyphe-%C3%A9gyptien-antique-sculpt%C3%A9e-dans-le-gr%C3%A8s.jpg\n",
      "\n",
      "Total skipped : 0; Total downloaded : 30/30\n"
     ]
    }
   ],
   "source": [
    "search_and_save(\"hieroglyphe\", 30, 0)"
   ]
  },
  {
   "cell_type": "markdown",
   "metadata": {},
   "source": [
    "#### Test du webdriver"
   ]
  },
  {
   "cell_type": "code",
   "execution_count": 11,
   "metadata": {},
   "outputs": [],
   "source": [
    "driver = webdriver.Chrome('database/chromedriver')  # Optional argument, if not specified will search path.\n",
    "driver.get('http://www.google.com/');\n",
    "time.sleep(5) # Let the user actually see something!\n",
    "search_box = driver.find_element_by_name('q')\n",
    "search_box.send_keys('ChromeDriver')\n",
    "search_box.submit()\n",
    "time.sleep(5) # Let the user actually see something!\n",
    "driver.quit()"
   ]
  }
 ],
 "metadata": {
  "kernelspec": {
   "display_name": "Python 3",
   "language": "python",
   "name": "python3"
  }
 },
 "nbformat": 4,
 "nbformat_minor": 2
}
