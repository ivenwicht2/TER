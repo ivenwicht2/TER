{
 "cells": [
  {
   "source": [
    "from importation import extract\n",
    "from LocalitySensitiveHashing import *\n",
    "import numpy as np\n",
    "from datasketch import MinHash, MinHashLSH\n",
    "from datasketch import MinHashLSHEnsemble, MinHash"
   ],
   "cell_type": "code",
   "outputs": [],
   "metadata": {},
   "execution_count": 35
  },
  {
   "cell_type": "markdown",
   "metadata": {},
   "source": [
    "## Import des images"
   ]
  },
  {
   "source": [
    "image,label,classe = extract(\"DATA\")\n",
    "image.shape"
   ],
   "cell_type": "code",
   "outputs": [
    {
     "output_type": "stream",
     "name": "stdout",
     "text": "Found 988 images belonging to 10 classes.\n"
    },
    {
     "output_type": "execute_result",
     "data": {
      "text/plain": "(988, 224, 224, 3)"
     },
     "metadata": {},
     "execution_count": 36
    }
   ],
   "metadata": {},
   "execution_count": 36
  },
  {
   "source": [
    "print(classe) # Affiche les classes présentent dans le dossier\n",
    "print(label[0]) # Correspond au label de la première image. La place du 1 correspond au label, ici : D4."
   ],
   "cell_type": "code",
   "outputs": [
    {
     "output_type": "stream",
     "name": "stdout",
     "text": "['D21' 'D4' 'F35' 'G17' 'G43' 'I10' 'M17' 'N35' 'V30' 'X8']\n[0. 0. 0. 0. 0. 0. 0. 1. 0. 0.]\n"
    }
   ],
   "metadata": {},
   "execution_count": 37
  },
  {
   "cell_type": "markdown",
   "metadata": {},
   "source": [
    "### Réccupération des images de chaque classe"
   ]
  },
  {
   "source": [
    "D21=[]"
   ],
   "cell_type": "code",
   "outputs": [],
   "metadata": {},
   "execution_count": 38
  },
  {
   "source": [
    "for img,lb in zip(image,label):\n",
    "    if classe[np.argmax(lb)]==\"D21\" : #argmax renvoi dans la liste l'élément le plus gros \n",
    "        D21.append(img)"
   ],
   "cell_type": "code",
   "outputs": [],
   "metadata": {},
   "execution_count": 39
  },
  {
   "source": [
    "D4=[]"
   ],
   "cell_type": "code",
   "outputs": [],
   "metadata": {},
   "execution_count": 40
  },
  {
   "source": [
    "for img,lb in zip(image,label):\n",
    "    if classe[np.argmax(lb)]==\"D4\" : #argmax renvoi dans la liste l'élément le plus gros *\n",
    "        D4.append(img)\n",
    "\n",
    "# * Puisque le nom de la classe est sous forme [0,0,1] at que la position du 1 correspond à la classe, le maximum de\n",
    "# la liste nous donne la classe"
   ],
   "cell_type": "code",
   "outputs": [],
   "metadata": {},
   "execution_count": 41
  },
  {
   "cell_type": "markdown",
   "metadata": {},
   "source": [
    "## Definition des classes Hashtable et LSH"
   ]
  },
  {
   "source": [
    "class HashTable:\n",
    "    def __init__(self, hash_size, inp_dimensions):\n",
    "        self.hash_size = hash_size\n",
    "        self.inp_dimensions = inp_dimensions\n",
    "        self.hash_table = dict()\n",
    "        self.projections = np.random.randn(self.hash_size, inp_dimensions)\n",
    "        \n",
    "    def generate_hash(self, inp_vector):\n",
    "        bools = (np.dot(inp_vector, self.projections.T) > 0).astype('int')\n",
    "        return ''.join(bools.astype('str'))\n",
    "\n",
    "    def __setitem__(self, inp_vec, label):\n",
    "        hash_value = self.generate_hash(inp_vec)\n",
    "        self.hash_table[hash_value] = self.hash_table\\\n",
    "            .get(hash_value, list()) + [label]\n",
    "        \n",
    "    def __getitem__(self, inp_vec):\n",
    "        hash_value = self.generate_hash(inp_vec)\n",
    "        return self.hash_table.get(hash_value, [])"
   ],
   "cell_type": "code",
   "outputs": [],
   "metadata": {},
   "execution_count": 42
  },
  {
   "source": [
    "test=HashTable(224,224)\n",
    "test.generate_hash()"
   ],
   "cell_type": "code",
   "outputs": [
    {
     "output_type": "error",
     "ename": "ValueError",
     "evalue": "shapes (105,224,224,3) and (224,224) not aligned: 3 (dim 3) != 224 (dim 0)",
     "traceback": [
      "\u001b[1;31m---------------------------------------------------------------------------\u001b[0m",
      "\u001b[1;31mValueError\u001b[0m                                Traceback (most recent call last)",
      "\u001b[1;32m<ipython-input-54-282acdad766d>\u001b[0m in \u001b[0;36m<module>\u001b[1;34m\u001b[0m\n\u001b[0;32m      1\u001b[0m \u001b[0mtest\u001b[0m\u001b[1;33m=\u001b[0m\u001b[0mHashTable\u001b[0m\u001b[1;33m(\u001b[0m\u001b[1;36m224\u001b[0m\u001b[1;33m,\u001b[0m\u001b[1;36m224\u001b[0m\u001b[1;33m)\u001b[0m\u001b[1;33m\u001b[0m\u001b[1;33m\u001b[0m\u001b[0m\n\u001b[1;32m----> 2\u001b[1;33m \u001b[0mtest\u001b[0m\u001b[1;33m.\u001b[0m\u001b[0mgenerate_hash\u001b[0m\u001b[1;33m(\u001b[0m\u001b[0mD4\u001b[0m\u001b[1;33m)\u001b[0m\u001b[1;33m\u001b[0m\u001b[1;33m\u001b[0m\u001b[0m\n\u001b[0m",
      "\u001b[1;32m<ipython-input-42-4b0f9e166698>\u001b[0m in \u001b[0;36mgenerate_hash\u001b[1;34m(self, inp_vector)\u001b[0m\n\u001b[0;32m      7\u001b[0m \u001b[1;33m\u001b[0m\u001b[0m\n\u001b[0;32m      8\u001b[0m     \u001b[1;32mdef\u001b[0m \u001b[0mgenerate_hash\u001b[0m\u001b[1;33m(\u001b[0m\u001b[0mself\u001b[0m\u001b[1;33m,\u001b[0m \u001b[0minp_vector\u001b[0m\u001b[1;33m)\u001b[0m\u001b[1;33m:\u001b[0m\u001b[1;33m\u001b[0m\u001b[1;33m\u001b[0m\u001b[0m\n\u001b[1;32m----> 9\u001b[1;33m         \u001b[0mbools\u001b[0m \u001b[1;33m=\u001b[0m \u001b[1;33m(\u001b[0m\u001b[0mnp\u001b[0m\u001b[1;33m.\u001b[0m\u001b[0mdot\u001b[0m\u001b[1;33m(\u001b[0m\u001b[0minp_vector\u001b[0m\u001b[1;33m,\u001b[0m \u001b[0mself\u001b[0m\u001b[1;33m.\u001b[0m\u001b[0mprojections\u001b[0m\u001b[1;33m.\u001b[0m\u001b[0mT\u001b[0m\u001b[1;33m)\u001b[0m \u001b[1;33m>\u001b[0m \u001b[1;36m0\u001b[0m\u001b[1;33m)\u001b[0m\u001b[1;33m.\u001b[0m\u001b[0mastype\u001b[0m\u001b[1;33m(\u001b[0m\u001b[1;34m'int'\u001b[0m\u001b[1;33m)\u001b[0m\u001b[1;33m\u001b[0m\u001b[1;33m\u001b[0m\u001b[0m\n\u001b[0m\u001b[0;32m     10\u001b[0m         \u001b[1;32mreturn\u001b[0m \u001b[1;34m''\u001b[0m\u001b[1;33m.\u001b[0m\u001b[0mjoin\u001b[0m\u001b[1;33m(\u001b[0m\u001b[0mbools\u001b[0m\u001b[1;33m.\u001b[0m\u001b[0mastype\u001b[0m\u001b[1;33m(\u001b[0m\u001b[1;34m'str'\u001b[0m\u001b[1;33m)\u001b[0m\u001b[1;33m)\u001b[0m\u001b[1;33m\u001b[0m\u001b[1;33m\u001b[0m\u001b[0m\n\u001b[0;32m     11\u001b[0m \u001b[1;33m\u001b[0m\u001b[0m\n",
      "\u001b[1;32m<__array_function__ internals>\u001b[0m in \u001b[0;36mdot\u001b[1;34m(*args, **kwargs)\u001b[0m\n",
      "\u001b[1;31mValueError\u001b[0m: shapes (105,224,224,3) and (224,224) not aligned: 3 (dim 3) != 224 (dim 0)"
     ]
    }
   ],
   "metadata": {},
   "execution_count": 54
  },
  {
   "source": [
    "class LSH:\n",
    "    def __init__(self, num_tables, hash_size, inp_dimensions):\n",
    "        self.num_tables = num_tables\n",
    "        self.hash_size = hash_size\n",
    "        self.inp_dimensions = inp_dimensions\n",
    "        self.hash_tables = list()\n",
    "        for i in range(self.num_tables):\n",
    "            self.hash_tables.append(HashTable(self.hash_size, self.inp_dimensions))\n",
    "    \n",
    "    def __setitem__(self, inp_vec, label):\n",
    "        for table in self.hash_tables:\n",
    "            table[inp_vec] = label\n",
    "    \n",
    "    def __getitem__(self, inp_vec):\n",
    "        results = list()\n",
    "        for table in self.hash_tables:\n",
    "            results.extend(table[inp_vec])\n",
    "        return list(set(results))"
   ],
   "cell_type": "code",
   "outputs": [],
   "metadata": {},
   "execution_count": 0
  },
  {
   "cell_type": "markdown",
   "metadata": {},
   "source": [
    "## Test de la création d'une classe LSH"
   ]
  },
  {
   "source": [
    "# Import des librairies\n",
    "from PIL import Image\n",
    "import numpy as np\n",
    "import os\n",
    "from keras.preprocessing.image import ImageDataGenerator\n",
    "import tensorflow as tf\n",
    "from keras.models import Sequential, Model\n",
    "from keras import applications\n",
    "from keras.layers import Dropout, Flatten, Dense\n",
    "from keras import optimizers\n",
    "from scipy import spatial\n",
    "import pathlib\n",
    "from sklearn.model_selection import train_test_split\n",
    "import pickle\n",
    "import matplotlib.pyplot as plt\n",
    ""
   ],
   "cell_type": "code",
   "outputs": [],
   "metadata": {},
   "execution_count": 67
  },
  {
   "source": [
    "# Import des images en 240 par 240 et noir et blanc\n",
    "data_dir = pathlib.Path(\"DATA\")\n",
    "image_count = len(list(data_dir.glob('*/*')))\n",
    "CLASS_NAMES = np.array([item.name for item in data_dir.glob('*') if item.name != \"LICENSE.txt\"]) \n",
    "image_generator = tf.keras.preprocessing.image.ImageDataGenerator(rescale=1./255) # redimension des images\n",
    "BATCH_SIZE = image_count\n",
    "IMG_HEIGHT = 224\n",
    "IMG_WIDTH = 224\n",
    "STEPS_PER_EPOCH = np.ceil(image_count/BATCH_SIZE)\n",
    "train_data_gen = image_generator.flow_from_directory(directory=str(data_dir),\n",
    "                                                     batch_size=BATCH_SIZE,\n",
    "                                                     shuffle=True,\n",
    "                                                     color_mode='grayscale', # Transformation des images en noir et blanc\n",
    "                                                     target_size=(IMG_HEIGHT, IMG_WIDTH),\n",
    "                                                     classes = list(CLASS_NAMES))"
   ],
   "cell_type": "code",
   "outputs": [
    {
     "output_type": "stream",
     "name": "stdout",
     "text": "Found 988 images belonging to 10 classes.\n"
    }
   ],
   "metadata": {},
   "execution_count": 68
  },
  {
   "source": [
    "# Séparation images / labels\n",
    "image_batch, label_batch = next(train_data_gen)\n",
    "print(image_batch.shape)# Les données sont sur quatres dimensions"
   ],
   "cell_type": "code",
   "outputs": [
    {
     "output_type": "stream",
     "name": "stdout",
     "text": "(988, 224, 224, 1)\n"
    }
   ],
   "metadata": {},
   "execution_count": 69
  },
  {
   "source": [
    "data=image_batch.reshape(105,224*224) # On les veut sur une dimension : On a 988 images qui \n",
    "# correspondent chacunes à un vecteur de 50176 pixels\n",
    "data.shape\n",
    "\n",
    "don=np.array(data).reshape(1, -1)\n",
    "don"
   ],
   "cell_type": "code",
   "outputs": [
    {
     "output_type": "error",
     "ename": "ValueError",
     "evalue": "cannot reshape array of size 49573888 into shape (105,50176)",
     "traceback": [
      "\u001b[1;31m---------------------------------------------------------------------------\u001b[0m",
      "\u001b[1;31mValueError\u001b[0m                                Traceback (most recent call last)",
      "\u001b[1;32m<ipython-input-70-0406562c89a5>\u001b[0m in \u001b[0;36m<module>\u001b[1;34m\u001b[0m\n\u001b[1;32m----> 1\u001b[1;33m \u001b[0mdata\u001b[0m\u001b[1;33m=\u001b[0m\u001b[0mimage_batch\u001b[0m\u001b[1;33m.\u001b[0m\u001b[0mreshape\u001b[0m\u001b[1;33m(\u001b[0m\u001b[1;36m105\u001b[0m\u001b[1;33m,\u001b[0m\u001b[1;36m224\u001b[0m\u001b[1;33m*\u001b[0m\u001b[1;36m224\u001b[0m\u001b[1;33m)\u001b[0m \u001b[1;31m# On les veut sur une dimension : On a 988 images qui\u001b[0m\u001b[1;33m\u001b[0m\u001b[1;33m\u001b[0m\u001b[0m\n\u001b[0m\u001b[0;32m      2\u001b[0m \u001b[1;31m# correspondent chacunes à un vecteur de 50176 pixels\u001b[0m\u001b[1;33m\u001b[0m\u001b[1;33m\u001b[0m\u001b[1;33m\u001b[0m\u001b[0m\n\u001b[0;32m      3\u001b[0m \u001b[0mdata\u001b[0m\u001b[1;33m.\u001b[0m\u001b[0mshape\u001b[0m\u001b[1;33m\u001b[0m\u001b[1;33m\u001b[0m\u001b[0m\n\u001b[0;32m      4\u001b[0m \u001b[1;33m\u001b[0m\u001b[0m\n\u001b[0;32m      5\u001b[0m \u001b[0mdon\u001b[0m\u001b[1;33m=\u001b[0m\u001b[0mnp\u001b[0m\u001b[1;33m.\u001b[0m\u001b[0marray\u001b[0m\u001b[1;33m(\u001b[0m\u001b[0mdata\u001b[0m\u001b[1;33m)\u001b[0m\u001b[1;33m.\u001b[0m\u001b[0mreshape\u001b[0m\u001b[1;33m(\u001b[0m\u001b[1;36m1\u001b[0m\u001b[1;33m,\u001b[0m \u001b[1;33m-\u001b[0m\u001b[1;36m1\u001b[0m\u001b[1;33m)\u001b[0m\u001b[1;33m\u001b[0m\u001b[1;33m\u001b[0m\u001b[0m\n",
      "\u001b[1;31mValueError\u001b[0m: cannot reshape array of size 49573888 into shape (105,50176)"
     ]
    }
   ],
   "metadata": {},
   "execution_count": 70
  },
  {
   "source": [
    "from copy import copy\n",
    "from itertools import combinations\n",
    "import numpy as np\n",
    "from pandas import DataFrame\n",
    "from sklearn.metrics.pairwise import pairwise_distances\n",
    "\n",
    "\n",
    "class LSH:\n",
    "    \n",
    "    def __init__(self, data):\n",
    "        self.data = data\n",
    "        self.model = None\n",
    "\n",
    "    def __generate_random_vectors(self, num_vector, dim):\n",
    "        return np.random.randn(dim, num_vector)\n",
    "\n",
    "    def train(self, num_vector, seed=None):\n",
    "        dim = self.data.shape[1]\n",
    "        if seed is not None:\n",
    "            np.random.seed(seed)\n",
    "\n",
    "        random_vectors = self.__generate_random_vectors(num_vector, dim)\n",
    "        powers_of_two = 1 << np.arange(num_vector - 1, -1, -1)\n",
    "\n",
    "        table = {}\n",
    "\n",
    "        # Partition data points into bins\n",
    "        bin_index_bits = (self.data.dot(random_vectors) >= 0)\n",
    "\n",
    "        # Encode bin index bits into integers\n",
    "        bin_indices = bin_index_bits.dot(powers_of_two)\n",
    "\n",
    "        # Update `table` so that `table[i]` is the list of document ids with bin index equal to i.\n",
    "        for data_index, bin_index in enumerate(bin_indices):\n",
    "            if bin_index not in table:\n",
    "                # If no list yet exists for this bin, assign the bin an empty list.\n",
    "                table[bin_index] = []\n",
    "            # Fetch the list of document ids associated with the bin and add the document id to the end.\n",
    "            table[bin_index].append(data_index)\n",
    "\n",
    "        self.model = {'bin_indices': bin_indices, 'table': table,\n",
    "                      'random_vectors': random_vectors, 'num_vector': num_vector}\n",
    "        return self\n",
    "\n",
    "    def __search_nearby_bins(self, query_bin_bits, table, search_radius=2, initial_candidates=set()):\n",
    "        num_vector = self.model['num_vector']\n",
    "        powers_of_two = 1 << np.arange(num_vector - 1, -1, -1)\n",
    "\n",
    "        # Allow the user to provide an initial set of candidates.\n",
    "        candidate_set = copy(initial_candidates)\n",
    "\n",
    "        for different_bits in combinations(range(num_vector), search_radius):\n",
    "            alternate_bits = copy(query_bin_bits)\n",
    "            for i in different_bits:\n",
    "                alternate_bits[i] = 1 if alternate_bits[i] == 0 else 0\n",
    "\n",
    "            # Convert the new bit vector to an integer index\n",
    "            nearby_bin = alternate_bits.dot(powers_of_two)\n",
    "\n",
    "            # Fetch the list of documents belonging to the bin indexed by the new bit vector.\n",
    "            # Then add those documents to candidate_set\n",
    "            if nearby_bin in table:\n",
    "                candidate_set.update(table[nearby_bin])\n",
    "\n",
    "        return candidate_set\n",
    "\n",
    "    def query(self, query_vec, k, max_search_radius, initial_candidates=set()):\n",
    "\n",
    "        if not self.model:\n",
    "            print('Model not yet build. Exiting!')\n",
    "            exit(-1)\n",
    "\n",
    "        data = self.data\n",
    "        table = self.model['table']\n",
    "        random_vectors = self.model['random_vectors']\n",
    "\n",
    "        bin_index_bits = (query_vec.dot(random_vectors) >= 0).flatten()\n",
    "\n",
    "        candidate_set = set()\n",
    "        # Search nearby bins and collect candidates\n",
    "        for search_radius in xrange(max_search_radius + 1):\n",
    "            candidate_set = self.__search_nearby_bins(bin_index_bits, table,\n",
    "                                                      search_radius, initial_candidates=initial_candidates)\n",
    "        # Sort candidates by their true distances from the query\n",
    "        nearest_neighbors = DataFrame({'id': list(candidate_set)})\n",
    "        candidates = data[np.array(list(candidate_set)), :]\n",
    "        nearest_neighbors['distance'] = pairwise_distances(candidates, query_vec, metric='cosine').flatten()\n",
    "        \n",
    "        return nearest_neighbors.nsmallest(k, 'distance')"
   ],
   "cell_type": "code",
   "outputs": [],
   "metadata": {},
   "execution_count": 0
  },
  {
   "source": [
    "#assumes that data is a num_observations by num_features numpy matrix\n",
    "lsh_model = LSH(image[0])\n",
    "print(image.shape)\n",
    "num_of_random_vectors = 15\n",
    "lsh_model.train(num_of_random_vectors)\n",
    "print(image[0].shape)\n",
    "#image = \n",
    "lsh_model.query(image[0,:], 5, 2)\n",
    ""
   ],
   "cell_type": "code",
   "outputs": [
    {
     "output_type": "stream",
     "name": "stdout",
     "text": "(988, 224, 224, 3)\n"
    },
    {
     "output_type": "error",
     "ename": "ValueError",
     "evalue": "shapes (224,224,3) and (224,15) not aligned: 3 (dim 2) != 224 (dim 0)",
     "traceback": [
      "\u001b[1;31m---------------------------------------------------------------------------\u001b[0m",
      "\u001b[1;31mValueError\u001b[0m                                Traceback (most recent call last)",
      "\u001b[1;32m<ipython-input-80-58d132cc5fb9>\u001b[0m in \u001b[0;36m<module>\u001b[1;34m\u001b[0m\n\u001b[0;32m      3\u001b[0m \u001b[0mprint\u001b[0m\u001b[1;33m(\u001b[0m\u001b[0mimage\u001b[0m\u001b[1;33m.\u001b[0m\u001b[0mshape\u001b[0m\u001b[1;33m)\u001b[0m\u001b[1;33m\u001b[0m\u001b[1;33m\u001b[0m\u001b[0m\n\u001b[0;32m      4\u001b[0m \u001b[0mnum_of_random_vectors\u001b[0m \u001b[1;33m=\u001b[0m \u001b[1;36m15\u001b[0m\u001b[1;33m\u001b[0m\u001b[1;33m\u001b[0m\u001b[0m\n\u001b[1;32m----> 5\u001b[1;33m \u001b[0mlsh_model\u001b[0m\u001b[1;33m.\u001b[0m\u001b[0mtrain\u001b[0m\u001b[1;33m(\u001b[0m\u001b[0mnum_of_random_vectors\u001b[0m\u001b[1;33m)\u001b[0m\u001b[1;33m\u001b[0m\u001b[1;33m\u001b[0m\u001b[0m\n\u001b[0m\u001b[0;32m      6\u001b[0m \u001b[0mprint\u001b[0m\u001b[1;33m(\u001b[0m\u001b[0mimage\u001b[0m\u001b[1;33m[\u001b[0m\u001b[1;36m0\u001b[0m\u001b[1;33m]\u001b[0m\u001b[1;33m.\u001b[0m\u001b[0mshape\u001b[0m\u001b[1;33m)\u001b[0m\u001b[1;33m\u001b[0m\u001b[1;33m\u001b[0m\u001b[0m\n\u001b[0;32m      7\u001b[0m \u001b[1;31m#image =\u001b[0m\u001b[1;33m\u001b[0m\u001b[1;33m\u001b[0m\u001b[1;33m\u001b[0m\u001b[0m\n",
      "\u001b[1;32m<ipython-input-71-24361c51040e>\u001b[0m in \u001b[0;36mtrain\u001b[1;34m(self, num_vector, seed)\u001b[0m\n\u001b[0;32m     26\u001b[0m \u001b[1;33m\u001b[0m\u001b[0m\n\u001b[0;32m     27\u001b[0m         \u001b[1;31m# Partition data points into bins\u001b[0m\u001b[1;33m\u001b[0m\u001b[1;33m\u001b[0m\u001b[1;33m\u001b[0m\u001b[0m\n\u001b[1;32m---> 28\u001b[1;33m         \u001b[0mbin_index_bits\u001b[0m \u001b[1;33m=\u001b[0m \u001b[1;33m(\u001b[0m\u001b[0mself\u001b[0m\u001b[1;33m.\u001b[0m\u001b[0mdata\u001b[0m\u001b[1;33m.\u001b[0m\u001b[0mdot\u001b[0m\u001b[1;33m(\u001b[0m\u001b[0mrandom_vectors\u001b[0m\u001b[1;33m)\u001b[0m \u001b[1;33m>=\u001b[0m \u001b[1;36m0\u001b[0m\u001b[1;33m)\u001b[0m\u001b[1;33m\u001b[0m\u001b[1;33m\u001b[0m\u001b[0m\n\u001b[0m\u001b[0;32m     29\u001b[0m \u001b[1;33m\u001b[0m\u001b[0m\n\u001b[0;32m     30\u001b[0m         \u001b[1;31m# Encode bin index bits into integers\u001b[0m\u001b[1;33m\u001b[0m\u001b[1;33m\u001b[0m\u001b[1;33m\u001b[0m\u001b[0m\n",
      "\u001b[1;31mValueError\u001b[0m: shapes (224,224,3) and (224,15) not aligned: 3 (dim 2) != 224 (dim 0)"
     ]
    }
   ],
   "metadata": {},
   "execution_count": 80
  },
  {
   "cell_type": "code",
   "execution_count": null,
   "metadata": {},
   "outputs": [],
   "source": []
  }
 ],
 "metadata": {
  "kernelspec": {
   "display_name": "Python 3.6.7 64-bit",
   "language": "python",
   "name": "python36764bit94d7c962b8294686a64eb4fa459584b0"
  },
  "language_info": {
   "codemirror_mode": {
    "name": "ipython",
    "version": 3
   },
   "file_extension": ".py",
   "mimetype": "text/x-python",
   "name": "python",
   "nbconvert_exporter": "python",
   "pygments_lexer": "ipython3",
   "version": "3.6.7-final"
  }
 },
 "nbformat": 4,
 "nbformat_minor": 2
}