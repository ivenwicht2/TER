{
 "cells": [
  {
   "cell_type": "code",
   "execution_count": 1,
   "metadata": {},
   "outputs": [],
   "source": [
    "# Pillow 6.0.0\n",
    "# importation du module Image de la librairie Pillow\n",
    "from PIL import Image\n",
    "\n",
    "import resizeimage\n",
    "from resizeimage import resizeimage\n",
    "import os\n",
    "\n",
    "\n",
    "# Utile: https://docs.microsoft.com/fr-fr/azure/cognitive-services/custom-vision-service/export-model-python?fbclid=IwAR179Yzl0zR8FiJJkb7rt54oMLNIFROwoVyu2LE0BjZeVARD58L8W16o3LQ"
   ]
  },
  {
   "cell_type": "code",
   "execution_count": null,
   "metadata": {},
   "outputs": [],
   "source": [
    "# miroir horizontal\n",
    "img2 = img0.transpose(Image.FLIP_LEFT_RIGHT)\n",
    "img2.save('image_miroir.jpg')"
   ]
  },
  {
   "cell_type": "code",
   "execution_count": 3,
   "metadata": {},
   "outputs": [
    {
     "data": {
      "text/plain": [
       "['a.jpg', 'b.jpg', 'c.jpg', 'd.jpg', 'e.jpg']"
      ]
     },
     "execution_count": 3,
     "metadata": {},
     "output_type": "execute_result"
    }
   ],
   "source": [
    "#1)recuperation du contenu du dossier c:\\dossier\\\n",
    "contenu=os.listdir('C:/_Travail/MasterMIASHS/TER/Images/')\n",
    "contenu"
   ]
  },
  {
   "cell_type": "code",
   "execution_count": 5,
   "metadata": {},
   "outputs": [],
   "source": [
    "tab=[]\n",
    "for i in contenu:\n",
    "    img = Image.open('C:/_Travail/MasterMIASHS/TER/Images/' + i)\n",
    "    img = img.convert('L')\n",
    "    img = resizeimage.resize_thumbnail(img, [50, 50])\n",
    "    tab.append(list(img.getdata()))   \n",
    "    \n",
    "    "
   ]
  },
  {
   "cell_type": "code",
   "execution_count": 6,
   "metadata": {
    "scrolled": false
   },
   "outputs": [
    {
     "data": {
      "text/plain": [
       "(5, 2500)"
      ]
     },
     "execution_count": 6,
     "metadata": {},
     "output_type": "execute_result"
    }
   ],
   "source": [
    "import numpy as np\n",
    "np.shape(tab)"
   ]
  },
  {
   "cell_type": "code",
   "execution_count": null,
   "metadata": {},
   "outputs": [],
   "source": []
  }
 ],
 "metadata": {
  "kernelspec": {
   "display_name": "Python 3",
   "language": "python",
   "name": "python3"
  },
  "language_info": {
   "codemirror_mode": {
    "name": "ipython",
    "version": 3
   },
   "file_extension": ".py",
   "mimetype": "text/x-python",
   "name": "python",
   "nbconvert_exporter": "python",
   "pygments_lexer": "ipython3",
   "version": "3.7.4"
  }
 },
 "nbformat": 4,
 "nbformat_minor": 2
}
