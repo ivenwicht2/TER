{
 "cells": [
  {
   "cell_type": "code",
   "execution_count": 1,
   "metadata": {},
   "outputs": [],
   "source": [
    "# Pillow 6.0.0\n",
    "# importation du module Image de la librairie Pillow\n",
    "from PIL import Image\n",
    "\n",
    "import resizeimage\n",
    "from resizeimage import resizeimage\n",
    "import os\n",
    "\n",
    "\n",
    "# Utile: https://docs.microsoft.com/fr-fr/azure/cognitive-services/custom-vision-service/export-model-python?fbclid=IwAR179Yzl0zR8FiJJkb7rt54oMLNIFROwoVyu2LE0BjZeVARD58L8W16o3LQ"
   ]
  },
  {
   "cell_type": "code",
   "execution_count": 2,
   "metadata": {},
   "outputs": [],
   "source": [
    "# miroir horizontal\n",
    "#img2 = img0.transpose(Image.FLIP_LEFT_RIGHT)\n",
    "#img2.save('image_miroir.jpg')"
   ]
  },
  {
   "cell_type": "code",
   "execution_count": 4,
   "metadata": {},
   "outputs": [
    {
     "data": {
      "text/plain": [
       "['a.jpg', 'b.jpg', 'c.jpg', 'd.jpg', 'e.jpg']"
      ]
     },
     "execution_count": 4,
     "metadata": {},
     "output_type": "execute_result"
    }
   ],
   "source": [
    "#1)recuperation du contenu du dossier c:\\dossier\\\n",
    "contenu=os.listdir('IMAGES/')\n",
    "contenu"
   ]
  },
  {
   "cell_type": "code",
   "execution_count": 5,
   "metadata": {},
   "outputs": [
    {
     "name": "stdout",
     "output_type": "stream",
     "text": [
      "<PIL.JpegImagePlugin.JpegImageFile image mode=RGB size=153x153 at 0x221F5217FD0>\n",
      "<PIL.JpegImagePlugin.JpegImageFile image mode=RGB size=153x153 at 0x221F53145C0>\n",
      "<PIL.JpegImagePlugin.JpegImageFile image mode=RGB size=153x153 at 0x221F53145C0>\n",
      "<PIL.JpegImagePlugin.JpegImageFile image mode=RGB size=153x153 at 0x221F53145F8>\n",
      "<PIL.JpegImagePlugin.JpegImageFile image mode=RGB size=153x153 at 0x221F5314A20>\n"
     ]
    }
   ],
   "source": [
    "tab=[]\n",
    "for i in contenu:\n",
    "    img = Image.open('IMAGES/' + i)\n",
    "    print(img)\n",
    "    img = img.convert('L')\n",
    "    img = resizeimage.resize_thumbnail(img, [50, 50])\n",
    "    tab.append(list(img.getdata()))   \n",
    "    \n",
    "    "
   ]
  },
  {
   "cell_type": "code",
   "execution_count": null,
   "metadata": {
    "scrolled": false
   },
   "outputs": [],
   "source": [
    "import numpy as np\n",
    "np.shape(tab)"
   ]
  },
  {
   "cell_type": "code",
   "execution_count": null,
   "metadata": {},
   "outputs": [],
   "source": []
  }
 ],
 "metadata": {
  "kernelspec": {
   "display_name": "Python 3",
   "language": "python",
   "name": "python3"
  },
  "language_info": {
   "codemirror_mode": {
    "name": "ipython",
    "version": 3
   },
   "file_extension": ".py",
   "mimetype": "text/x-python",
   "name": "python",
   "nbconvert_exporter": "python",
   "pygments_lexer": "ipython3",
   "version": "3.7.3"
  }
 },
 "nbformat": 4,
 "nbformat_minor": 2
}
